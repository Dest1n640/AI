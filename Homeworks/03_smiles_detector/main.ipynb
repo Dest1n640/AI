{
 "cells": [
  {
   "cell_type": "code",
   "execution_count": 4,
   "id": "83b55417",
   "metadata": {},
   "outputs": [],
   "source": [
    "import numpy as np \n",
    "from sklearn.tree import DecisionTreeClassifier\n",
    "from sklearn.tree import export_graphviz\n",
    "import graphviz\n",
    "import cv2\n",
    "from sklearn.decomposition import PCA\n"
   ]
  },
  {
   "cell_type": "code",
   "execution_count": 5,
   "id": "8f376080",
   "metadata": {},
   "outputs": [
    {
     "data": {
      "text/plain": [
       "(np.uint8(255), np.uint8(0))"
      ]
     },
     "execution_count": 5,
     "metadata": {},
     "output_type": "execute_result"
    }
   ],
   "source": [
    "y = ['happy', 'sad', 'neutral', 'worried']\n",
    "x = []\n",
    "for i in range(1, 5):\n",
    "  image_path = f'smiles/{i}.png'\n",
    "  image = cv2.imread(image_path)\n",
    "\n",
    "  gray_image = cv2.cvtColor(image, cv2.COLOR_BGR2GRAY)\n",
    "  ret, binary_image = cv2.threshold(gray_image, 127, 255, cv2.THRESH_BINARY)\n",
    "  x.append(binary_image)\n",
    "\n",
    "x = np.array(x)\n",
    "np.max(x), np.min(x)"
   ]
  },
  {
   "cell_type": "code",
   "execution_count": 6,
   "id": "da4ac4a8",
   "metadata": {},
   "outputs": [
    {
     "name": "stdout",
     "output_type": "stream",
     "text": [
      "1.0\n",
      "['happy' 'sad' 'neutral' 'worried']\n"
     ]
    }
   ],
   "source": [
    "n_samples, height, width = x.shape\n",
    "x = x.reshape((n_samples, height * width))\n",
    "# Так как метод главных компонентов работает только с двумерными массивами делаю reshape\n",
    "\n",
    "tr = PCA() #Использую метод главных компонентов что бы сократить изображение и не работать с огромным масивом данных из изображения\n",
    "x2 = tr.fit_transform(x)\n",
    "\n",
    "clf = DecisionTreeClassifier()\n",
    "clf.fit(x2, y)\n",
    "\n",
    "dot_data = export_graphviz(clf, out_file=None)\n",
    "graph = graphviz.Source(dot_data)\n",
    "graph.render(\"mytree\")\n",
    "print(clf.score(x2, y))\n",
    "print(clf.predict(x2))\n"
   ]
  },
  {
   "cell_type": "code",
   "execution_count": null,
   "id": "3f831f8e",
   "metadata": {},
   "outputs": [],
   "source": []
  }
 ],
 "metadata": {
  "kernelspec": {
   "display_name": "Python 3",
   "language": "python",
   "name": "python3"
  },
  "language_info": {
   "codemirror_mode": {
    "name": "ipython",
    "version": 3
   },
   "file_extension": ".py",
   "mimetype": "text/x-python",
   "name": "python",
   "nbconvert_exporter": "python",
   "pygments_lexer": "ipython3",
   "version": "3.13.7"
  }
 },
 "nbformat": 4,
 "nbformat_minor": 5
}
