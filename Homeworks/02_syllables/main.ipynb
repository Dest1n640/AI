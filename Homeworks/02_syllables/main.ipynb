{
 "cells": [
  {
   "cell_type": "code",
   "execution_count": 7,
   "id": "b10d8175",
   "metadata": {},
   "outputs": [],
   "source": [
    "import re"
   ]
  },
  {
   "cell_type": "code",
   "execution_count": null,
   "id": "2ac0f57b",
   "metadata": {},
   "outputs": [
    {
     "name": "stdout",
     "output_type": "stream",
     "text": [
      "Слоги: ['П', 'ри', 'вет', 'Мир', 'Как', 'де', 'ла']\n"
     ]
    }
   ],
   "source": [
    "word = input(\"Введите слово: \")\n",
    "vowels = 'аеёиоуыэюяАЕЁИОУЫЭЮЯ'\n",
    "consonants = 'бвгджзйклмнпрстфхцчшщБВГДЖЗЙКЛМНПРСТФХЦЧШЩ'\n",
    "\n",
    "pattern = fr'(?=[{consonants}][{vowels}])|(?<=[{vowels}])(?=[{vowels}])'\n",
    "\n",
    "syllables_raw = re.split(pattern, word)\n",
    "res = [s for s in syllables_raw if s]\n",
    "print(f\"Слоги: {res}\")"
   ]
  }
 ],
 "metadata": {
  "kernelspec": {
   "display_name": "Python 3",
   "language": "python",
   "name": "python3"
  },
  "language_info": {
   "codemirror_mode": {
    "name": "ipython",
    "version": 3
   },
   "file_extension": ".py",
   "mimetype": "text/x-python",
   "name": "python",
   "nbconvert_exporter": "python",
   "pygments_lexer": "ipython3",
   "version": "3.13.7"
  }
 },
 "nbformat": 4,
 "nbformat_minor": 5
}
